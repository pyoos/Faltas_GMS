{
 "cells": [
  {
   "cell_type": "code",
   "execution_count": 5,
   "id": "05487dd8-4a7b-494b-a675-8b3978a6b3d6",
   "metadata": {},
   "outputs": [
    {
     "name": "stdout",
     "output_type": "stream",
     "text": [
      "Collecting tk\n",
      "  Downloading tk-0.1.0-py3-none-any.whl.metadata (693 bytes)\n",
      "Downloading tk-0.1.0-py3-none-any.whl (3.9 kB)\n",
      "Installing collected packages: tk\n",
      "Successfully installed tk-0.1.0\n",
      "Requirement already satisfied: pandas in /opt/anaconda3/lib/python3.12/site-packages (2.2.2)\n",
      "Requirement already satisfied: numpy>=1.26.0 in /opt/anaconda3/lib/python3.12/site-packages (from pandas) (1.26.4)\n",
      "Requirement already satisfied: python-dateutil>=2.8.2 in /opt/anaconda3/lib/python3.12/site-packages (from pandas) (2.9.0.post0)\n",
      "Requirement already satisfied: pytz>=2020.1 in /opt/anaconda3/lib/python3.12/site-packages (from pandas) (2024.1)\n",
      "Requirement already satisfied: tzdata>=2022.7 in /opt/anaconda3/lib/python3.12/site-packages (from pandas) (2023.3)\n",
      "Requirement already satisfied: six>=1.5 in /opt/anaconda3/lib/python3.12/site-packages (from python-dateutil>=2.8.2->pandas) (1.16.0)\n"
     ]
    }
   ],
   "source": [
    "!pip install tk\n",
    "!pip install pandas"
   ]
  },
  {
   "cell_type": "code",
   "execution_count": 1,
   "id": "ce86e765-a262-4621-80c1-dd7cd4ee501a",
   "metadata": {},
   "outputs": [],
   "source": [
    "import tkinter as tk\n",
    "from tkinter import filedialog\n",
    "import pandas as pd\n",
    " \n",
    "class GrantManagementApp:\n",
    "    def __init__(self, root):\n",
    "        self.root = root\n",
    "        self.root.title(\"Grant Management System\")\n",
    "       \n",
    "        self.grant_data = pd.DataFrame(columns=['Grant ID', 'Grant Name', 'Total Balance', 'Allowed Items'])\n",
    "       \n",
    "        self.create_widgets()\n",
    "       \n",
    "    def create_widgets(self):\n",
    "        self.label = tk.Label(self.root, text=\"Grant Management System\")\n",
    "        self.label.pack()\n",
    "       \n",
    "        self.upload_btn = tk.Button(self.root, text=\"Upload Expenses CSV\", command=self.upload_csv)\n",
    "        self.upload_btn.pack()\n",
    "       \n",
    "        self.show_btn = tk.Button(self.root, text=\"Show Grants\", command=self.show_grants)\n",
    "        self.show_btn.pack()\n",
    "       \n",
    "        self.add_rule_btn = tk.Button(self.root, text=\"Add Spending Rule\", command=self.add_rule)\n",
    "        self.add_rule_btn.pack()\n",
    "       \n",
    "    def upload_csv(self):\n",
    "        file_path = filedialog.askopenfilename()\n",
    "        if file_path:\n",
    "            expenses = pd.read_csv(file_path)\n",
    "            self.update_balances(expenses)\n",
    "       \n",
    "    def update_balances(self, expenses):\n",
    "        for index, expense in expenses.iterrows():\n",
    "            grant_id = expense['Grant ID']\n",
    "            amount = expense['Amount']\n",
    "            self.grant_data.loc[self.grant_data['Grant ID'] == grant_id, 'Total Balance'] -= amount\n",
    "       \n",
    "    def show_grants(self):\n",
    "        print(self.grant_data)\n",
    "       \n",
    "    def add_rule(self):\n",
    "        top = tk.Toplevel(self.root)\n",
    "        top.title(\"Add Spending Rule\")\n",
    "       \n",
    "        tk.Label(top, text=\"Grant ID\").pack()\n",
    "        grant_id_entry = tk.Entry(top)\n",
    "        grant_id_entry.pack()\n",
    "       \n",
    "        tk.Label(top, text=\"Allowed Item\").pack()\n",
    "        item_entry = tk.Entry(top)\n",
    "        item_entry.pack()\n",
    "       \n",
    "        tk.Button(top, text=\"Add Rule\", command=lambda: self.save_rule(grant_id_entry.get(), item_entry.get(), top)).pack()\n",
    "   \n",
    "    def save_rule(self, grant_id, item, top):\n",
    "        if grant_id in self.grant_data['Grant ID'].values:\n",
    "            idx = self.grant_data[self.grant_data['Grant ID'] == grant_id].index[0]\n",
    "            if pd.isna(self.grant_data.at[idx, 'Allowed Items']):\n",
    "                self.grant_data.at[idx, 'Allowed Items'] = [item]\n",
    "            else:\n",
    "                self.grant_data.at[idx, 'Allowed Items'].append(item)\n",
    "        top.destroy()\n",
    " \n",
    "root = tk.Tk()\n",
    "app = GrantManagementApp(root)\n",
    "root.mainloop()"
   ]
  },
  {
   "cell_type": "code",
   "execution_count": null,
   "id": "7606021f-4924-4bc0-b4ad-c4a53031ddc6",
   "metadata": {},
   "outputs": [],
   "source": []
  }
 ],
 "metadata": {
  "kernelspec": {
   "display_name": "Python 3 (ipykernel)",
   "language": "python",
   "name": "python3"
  },
  "language_info": {
   "codemirror_mode": {
    "name": "ipython",
    "version": 3
   },
   "file_extension": ".py",
   "mimetype": "text/x-python",
   "name": "python",
   "nbconvert_exporter": "python",
   "pygments_lexer": "ipython3",
   "version": "3.12.4"
  }
 },
 "nbformat": 4,
 "nbformat_minor": 5
}
